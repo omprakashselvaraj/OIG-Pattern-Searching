{
 "cells": [
  {
   "cell_type": "code",
   "execution_count": 45,
   "metadata": {},
   "outputs": [],
   "source": [
    "import pandas as pd \n",
    "from PyPDF2 import PdfReader\n",
    "from nltk.corpus import stopwords\n",
    "from nltk.tokenize import word_tokenize\n",
    "import re"
   ]
  },
  {
   "cell_type": "code",
   "execution_count": 46,
   "metadata": {},
   "outputs": [
    {
     "name": "stdout",
     "output_type": "stream",
     "text": [
      "dict_keys(['diagnosiscode', 'hipps', 'hcpc', 'cptcode'])\n"
     ]
    }
   ],
   "source": [
    "df = pd.read_excel('clinical_codes.xlsx', sheet_name=None)\n",
    "print(df.keys())"
   ]
  },
  {
   "cell_type": "code",
   "execution_count": 47,
   "metadata": {},
   "outputs": [],
   "source": [
    "diag_code = pd.read_excel('clinical_codes.xlsx', sheet_name='diagnosiscode')"
   ]
  },
  {
   "cell_type": "code",
   "execution_count": 48,
   "metadata": {},
   "outputs": [
    {
     "data": {
      "text/html": [
       "<div>\n",
       "<style scoped>\n",
       "    .dataframe tbody tr th:only-of-type {\n",
       "        vertical-align: middle;\n",
       "    }\n",
       "\n",
       "    .dataframe tbody tr th {\n",
       "        vertical-align: top;\n",
       "    }\n",
       "\n",
       "    .dataframe thead th {\n",
       "        text-align: right;\n",
       "    }\n",
       "</style>\n",
       "<table border=\"1\" class=\"dataframe\">\n",
       "  <thead>\n",
       "    <tr style=\"text-align: right;\">\n",
       "      <th></th>\n",
       "      <th>startdate</th>\n",
       "      <th>enddate</th>\n",
       "      <th>code_desclevel1</th>\n",
       "      <th>code_desclevel2</th>\n",
       "      <th>code_desclevel3</th>\n",
       "      <th>code_desclevel4</th>\n",
       "      <th>diagnosiscode</th>\n",
       "      <th>codeformat</th>\n",
       "    </tr>\n",
       "  </thead>\n",
       "  <tbody>\n",
       "    <tr>\n",
       "      <th>0</th>\n",
       "      <td>2015-10-01</td>\n",
       "      <td>NaT</td>\n",
       "      <td>Injury, poisoning and certain other consequenc...</td>\n",
       "      <td>Injuries to the wrist, hand and fingers</td>\n",
       "      <td>Dislocation and sprain of joints and ligaments...</td>\n",
       "      <td>Unspecified subluxation of left index finger, ...</td>\n",
       "      <td>S63201S</td>\n",
       "      <td>S63.201S</td>\n",
       "    </tr>\n",
       "    <tr>\n",
       "      <th>1</th>\n",
       "      <td>2015-10-01</td>\n",
       "      <td>NaT</td>\n",
       "      <td>Diseases of the musculoskeletal system and con...</td>\n",
       "      <td>Inflammatory polyarthropathies</td>\n",
       "      <td>Rheumatoid arthritis with rheumatoid factor</td>\n",
       "      <td>Rheumatoid lung disease with rheumatoid arthri...</td>\n",
       "      <td>M05159</td>\n",
       "      <td>M05.159</td>\n",
       "    </tr>\n",
       "    <tr>\n",
       "      <th>2</th>\n",
       "      <td>2015-10-01</td>\n",
       "      <td>NaT</td>\n",
       "      <td>Injury, poisoning and certain other consequenc...</td>\n",
       "      <td>Poisoning by, adverse effects of and underdosi...</td>\n",
       "      <td>Poisoning by, adverse effect of and underdosin...</td>\n",
       "      <td>Poisoning by unspecified antidepressants, inte...</td>\n",
       "      <td>T43202D</td>\n",
       "      <td>T43.202D</td>\n",
       "    </tr>\n",
       "    <tr>\n",
       "      <th>3</th>\n",
       "      <td>2015-10-01</td>\n",
       "      <td>NaT</td>\n",
       "      <td>Diseases of the eye and adnexa</td>\n",
       "      <td>Other disorders of eye and adnexa</td>\n",
       "      <td>Other disorders of eye and adnexa</td>\n",
       "      <td>Mydriasis</td>\n",
       "      <td>H5704</td>\n",
       "      <td>H57.04</td>\n",
       "    </tr>\n",
       "    <tr>\n",
       "      <th>4</th>\n",
       "      <td>2015-10-01</td>\n",
       "      <td>NaT</td>\n",
       "      <td>Injury, poisoning and certain other consequenc...</td>\n",
       "      <td>Injuries to the knee and lower leg</td>\n",
       "      <td>Fracture of lower leg, including ankle</td>\n",
       "      <td>Unspecified fracture of shaft of right tibia, ...</td>\n",
       "      <td>S82201A</td>\n",
       "      <td>S82.201A</td>\n",
       "    </tr>\n",
       "  </tbody>\n",
       "</table>\n",
       "</div>"
      ],
      "text/plain": [
       "   startdate enddate                                    code_desclevel1  \\\n",
       "0 2015-10-01     NaT  Injury, poisoning and certain other consequenc...   \n",
       "1 2015-10-01     NaT  Diseases of the musculoskeletal system and con...   \n",
       "2 2015-10-01     NaT  Injury, poisoning and certain other consequenc...   \n",
       "3 2015-10-01     NaT                     Diseases of the eye and adnexa   \n",
       "4 2015-10-01     NaT  Injury, poisoning and certain other consequenc...   \n",
       "\n",
       "                                     code_desclevel2  \\\n",
       "0            Injuries to the wrist, hand and fingers   \n",
       "1                     Inflammatory polyarthropathies   \n",
       "2  Poisoning by, adverse effects of and underdosi...   \n",
       "3                  Other disorders of eye and adnexa   \n",
       "4                 Injuries to the knee and lower leg   \n",
       "\n",
       "                                     code_desclevel3  \\\n",
       "0  Dislocation and sprain of joints and ligaments...   \n",
       "1        Rheumatoid arthritis with rheumatoid factor   \n",
       "2  Poisoning by, adverse effect of and underdosin...   \n",
       "3                  Other disorders of eye and adnexa   \n",
       "4             Fracture of lower leg, including ankle   \n",
       "\n",
       "                                     code_desclevel4 diagnosiscode codeformat  \n",
       "0  Unspecified subluxation of left index finger, ...       S63201S   S63.201S  \n",
       "1  Rheumatoid lung disease with rheumatoid arthri...        M05159    M05.159  \n",
       "2  Poisoning by unspecified antidepressants, inte...       T43202D   T43.202D  \n",
       "3                                          Mydriasis         H5704     H57.04  \n",
       "4  Unspecified fracture of shaft of right tibia, ...       S82201A   S82.201A  "
      ]
     },
     "execution_count": 48,
     "metadata": {},
     "output_type": "execute_result"
    }
   ],
   "source": [
    "diag_code.head()"
   ]
  },
  {
   "cell_type": "code",
   "execution_count": 49,
   "metadata": {},
   "outputs": [],
   "source": [
    "hipps_code = pd.read_excel('clinical_codes.xlsx', sheet_name='hipps')"
   ]
  },
  {
   "cell_type": "code",
   "execution_count": 50,
   "metadata": {},
   "outputs": [
    {
     "data": {
      "text/html": [
       "<div>\n",
       "<style scoped>\n",
       "    .dataframe tbody tr th:only-of-type {\n",
       "        vertical-align: middle;\n",
       "    }\n",
       "\n",
       "    .dataframe tbody tr th {\n",
       "        vertical-align: top;\n",
       "    }\n",
       "\n",
       "    .dataframe thead th {\n",
       "        text-align: right;\n",
       "    }\n",
       "</style>\n",
       "<table border=\"1\" class=\"dataframe\">\n",
       "  <thead>\n",
       "    <tr style=\"text-align: right;\">\n",
       "      <th></th>\n",
       "      <th>codedescription</th>\n",
       "      <th>effectivefromdate</th>\n",
       "      <th>effectivethroughdate</th>\n",
       "      <th>hippscode</th>\n",
       "      <th>medicareeffectivethroughdate</th>\n",
       "      <th>paymentsystemindicator</th>\n",
       "    </tr>\n",
       "  </thead>\n",
       "  <tbody>\n",
       "    <tr>\n",
       "      <th>0</th>\n",
       "      <td>Late Episode, 14-19 therapies,Clinical Severit...</td>\n",
       "      <td>2008-01-01</td>\n",
       "      <td>NaT</td>\n",
       "      <td>4BFL2</td>\n",
       "      <td>NaT</td>\n",
       "      <td>HHA</td>\n",
       "    </tr>\n",
       "    <tr>\n",
       "      <th>1</th>\n",
       "      <td>Early or Late Episode, 20+ therapies,Clinical ...</td>\n",
       "      <td>2008-01-01</td>\n",
       "      <td>NaT</td>\n",
       "      <td>5BFK2</td>\n",
       "      <td>NaT</td>\n",
       "      <td>HHA</td>\n",
       "    </tr>\n",
       "    <tr>\n",
       "      <th>2</th>\n",
       "      <td>Reduced Physical Function , ADL Index 6-10/90-...</td>\n",
       "      <td>2010-10-01</td>\n",
       "      <td>NaT</td>\n",
       "      <td>PC256</td>\n",
       "      <td>NaT</td>\n",
       "      <td>SNF</td>\n",
       "    </tr>\n",
       "    <tr>\n",
       "      <th>3</th>\n",
       "      <td>Clinical=High, Functional=Min, Service=Low, 4t...</td>\n",
       "      <td>2000-10-01</td>\n",
       "      <td>2007-12-31</td>\n",
       "      <td>HDEK4</td>\n",
       "      <td>2007-12-31</td>\n",
       "      <td>HHA</td>\n",
       "    </tr>\n",
       "    <tr>\n",
       "      <th>4</th>\n",
       "      <td>Special Care High , ADL Index 2-5/SOT OMRA (no...</td>\n",
       "      <td>2010-10-01</td>\n",
       "      <td>NaT</td>\n",
       "      <td>HB106</td>\n",
       "      <td>NaT</td>\n",
       "      <td>SNF</td>\n",
       "    </tr>\n",
       "  </tbody>\n",
       "</table>\n",
       "</div>"
      ],
      "text/plain": [
       "                                     codedescription effectivefromdate  \\\n",
       "0  Late Episode, 14-19 therapies,Clinical Severit...        2008-01-01   \n",
       "1  Early or Late Episode, 20+ therapies,Clinical ...        2008-01-01   \n",
       "2  Reduced Physical Function , ADL Index 6-10/90-...        2010-10-01   \n",
       "3  Clinical=High, Functional=Min, Service=Low, 4t...        2000-10-01   \n",
       "4  Special Care High , ADL Index 2-5/SOT OMRA (no...        2010-10-01   \n",
       "\n",
       "  effectivethroughdate hippscode medicareeffectivethroughdate  \\\n",
       "0                  NaT     4BFL2                          NaT   \n",
       "1                  NaT     5BFK2                          NaT   \n",
       "2                  NaT     PC256                          NaT   \n",
       "3           2007-12-31     HDEK4                   2007-12-31   \n",
       "4                  NaT     HB106                          NaT   \n",
       "\n",
       "  paymentsystemindicator  \n",
       "0                    HHA  \n",
       "1                    HHA  \n",
       "2                    SNF  \n",
       "3                    HHA  \n",
       "4                    SNF  "
      ]
     },
     "execution_count": 50,
     "metadata": {},
     "output_type": "execute_result"
    }
   ],
   "source": [
    "hipps_code.head()"
   ]
  },
  {
   "cell_type": "code",
   "execution_count": 51,
   "metadata": {},
   "outputs": [],
   "source": [
    "hcpc_code = pd.read_excel('clinical_codes.xlsx', sheet_name='hcpc')"
   ]
  },
  {
   "cell_type": "code",
   "execution_count": 52,
   "metadata": {},
   "outputs": [
    {
     "data": {
      "text/html": [
       "<div>\n",
       "<style scoped>\n",
       "    .dataframe tbody tr th:only-of-type {\n",
       "        vertical-align: middle;\n",
       "    }\n",
       "\n",
       "    .dataframe tbody tr th {\n",
       "        vertical-align: top;\n",
       "    }\n",
       "\n",
       "    .dataframe thead th {\n",
       "        text-align: right;\n",
       "    }\n",
       "</style>\n",
       "<table border=\"1\" class=\"dataframe\">\n",
       "  <thead>\n",
       "    <tr style=\"text-align: right;\">\n",
       "      <th></th>\n",
       "      <th>brandname</th>\n",
       "      <th>hcpccode</th>\n",
       "      <th>longdescription</th>\n",
       "      <th>shortdescription</th>\n",
       "      <th>typicaldosage</th>\n",
       "    </tr>\n",
       "  </thead>\n",
       "  <tbody>\n",
       "    <tr>\n",
       "      <th>0</th>\n",
       "      <td>NaN</td>\n",
       "      <td>G9140</td>\n",
       "      <td>FRONTIER EXTENDED STAY CLINIC DEMONSTRATION; F...</td>\n",
       "      <td>Frontier extended stay demo</td>\n",
       "      <td>NaN</td>\n",
       "    </tr>\n",
       "    <tr>\n",
       "      <th>1</th>\n",
       "      <td>NaN</td>\n",
       "      <td>C9447</td>\n",
       "      <td>INJECTION, PHENYLEPHRINE AND KETOROLAC, 4 ML VIAL</td>\n",
       "      <td>Inj, phenylephrine ketorolac</td>\n",
       "      <td>NaN</td>\n",
       "    </tr>\n",
       "    <tr>\n",
       "      <th>2</th>\n",
       "      <td>NaN</td>\n",
       "      <td>Q1005</td>\n",
       "      <td>NEW TECHNOLOGY INTRAOCULAR LENS CATEGORY 5 AS ...</td>\n",
       "      <td>Ntiol category 5</td>\n",
       "      <td>NaN</td>\n",
       "    </tr>\n",
       "    <tr>\n",
       "      <th>3</th>\n",
       "      <td>NaN</td>\n",
       "      <td>G9780</td>\n",
       "      <td>Patients who have a diagnosis of rhabdomyolysi...</td>\n",
       "      <td>Pts dx w/rhabdomyolysis</td>\n",
       "      <td>NaN</td>\n",
       "    </tr>\n",
       "    <tr>\n",
       "      <th>4</th>\n",
       "      <td>Other DME and Supplies</td>\n",
       "      <td>K1009</td>\n",
       "      <td>Communication Equipment</td>\n",
       "      <td>Speech volume modulation system, any type, inc...</td>\n",
       "      <td>HCPCS - Durable Medical Equipment (DME)</td>\n",
       "    </tr>\n",
       "  </tbody>\n",
       "</table>\n",
       "</div>"
      ],
      "text/plain": [
       "                brandname hcpccode  \\\n",
       "0                     NaN    G9140   \n",
       "1                     NaN    C9447   \n",
       "2                     NaN    Q1005   \n",
       "3                     NaN    G9780   \n",
       "4  Other DME and Supplies    K1009   \n",
       "\n",
       "                                     longdescription  \\\n",
       "0  FRONTIER EXTENDED STAY CLINIC DEMONSTRATION; F...   \n",
       "1  INJECTION, PHENYLEPHRINE AND KETOROLAC, 4 ML VIAL   \n",
       "2  NEW TECHNOLOGY INTRAOCULAR LENS CATEGORY 5 AS ...   \n",
       "3  Patients who have a diagnosis of rhabdomyolysi...   \n",
       "4                            Communication Equipment   \n",
       "\n",
       "                                    shortdescription  \\\n",
       "0                        Frontier extended stay demo   \n",
       "1                       Inj, phenylephrine ketorolac   \n",
       "2                                   Ntiol category 5   \n",
       "3                            Pts dx w/rhabdomyolysis   \n",
       "4  Speech volume modulation system, any type, inc...   \n",
       "\n",
       "                             typicaldosage  \n",
       "0                                      NaN  \n",
       "1                                      NaN  \n",
       "2                                      NaN  \n",
       "3                                      NaN  \n",
       "4  HCPCS - Durable Medical Equipment (DME)  "
      ]
     },
     "execution_count": 52,
     "metadata": {},
     "output_type": "execute_result"
    }
   ],
   "source": [
    "hcpc_code.head()"
   ]
  },
  {
   "cell_type": "code",
   "execution_count": 53,
   "metadata": {},
   "outputs": [],
   "source": [
    "cpt_code = pd.read_excel('clinical_codes.xlsx', sheet_name='cptcode')"
   ]
  },
  {
   "cell_type": "code",
   "execution_count": 54,
   "metadata": {},
   "outputs": [
    {
     "data": {
      "text/html": [
       "<div>\n",
       "<style scoped>\n",
       "    .dataframe tbody tr th:only-of-type {\n",
       "        vertical-align: middle;\n",
       "    }\n",
       "\n",
       "    .dataframe tbody tr th {\n",
       "        vertical-align: top;\n",
       "    }\n",
       "\n",
       "    .dataframe thead th {\n",
       "        text-align: right;\n",
       "    }\n",
       "</style>\n",
       "<table border=\"1\" class=\"dataframe\">\n",
       "  <thead>\n",
       "    <tr style=\"text-align: right;\">\n",
       "      <th></th>\n",
       "      <th>cptcode</th>\n",
       "      <th>level_1_description</th>\n",
       "      <th>level_2_description</th>\n",
       "      <th>level_3_description</th>\n",
       "    </tr>\n",
       "  </thead>\n",
       "  <tbody>\n",
       "    <tr>\n",
       "      <th>0</th>\n",
       "      <td>0001A</td>\n",
       "      <td>Medicine Services and Procedures</td>\n",
       "      <td>Immunization Administration for Vaccines/Toxoids</td>\n",
       "      <td>Adm sarscov2 30mcg/0.3ml 1st</td>\n",
       "    </tr>\n",
       "    <tr>\n",
       "      <th>1</th>\n",
       "      <td>0001F</td>\n",
       "      <td>Category II Codes</td>\n",
       "      <td>Composite Measures</td>\n",
       "      <td>Heart failure composite</td>\n",
       "    </tr>\n",
       "    <tr>\n",
       "      <th>2</th>\n",
       "      <td>0001U</td>\n",
       "      <td>Proprietary Laboratory Analyses</td>\n",
       "      <td>NaN</td>\n",
       "      <td>Rbc dna hea 35 ag 11 bld grp</td>\n",
       "    </tr>\n",
       "    <tr>\n",
       "      <th>3</th>\n",
       "      <td>0002A</td>\n",
       "      <td>Medicine Services and Procedures</td>\n",
       "      <td>Immunization Administration for Vaccines/Toxoids</td>\n",
       "      <td>Adm sarscov2 30mcg/0.3ml 2nd</td>\n",
       "    </tr>\n",
       "    <tr>\n",
       "      <th>4</th>\n",
       "      <td>0002M</td>\n",
       "      <td>Multianalyte Assay</td>\n",
       "      <td>NaN</td>\n",
       "      <td>Liver dis 10 assays w/ash</td>\n",
       "    </tr>\n",
       "  </tbody>\n",
       "</table>\n",
       "</div>"
      ],
      "text/plain": [
       "  cptcode               level_1_description  \\\n",
       "0   0001A  Medicine Services and Procedures   \n",
       "1   0001F                 Category II Codes   \n",
       "2   0001U   Proprietary Laboratory Analyses   \n",
       "3   0002A  Medicine Services and Procedures   \n",
       "4   0002M                Multianalyte Assay   \n",
       "\n",
       "                                level_2_description  \\\n",
       "0  Immunization Administration for Vaccines/Toxoids   \n",
       "1                                Composite Measures   \n",
       "2                                               NaN   \n",
       "3  Immunization Administration for Vaccines/Toxoids   \n",
       "4                                               NaN   \n",
       "\n",
       "            level_3_description  \n",
       "0  Adm sarscov2 30mcg/0.3ml 1st  \n",
       "1       Heart failure composite  \n",
       "2  Rbc dna hea 35 ag 11 bld grp  \n",
       "3  Adm sarscov2 30mcg/0.3ml 2nd  \n",
       "4     Liver dis 10 assays w/ash  "
      ]
     },
     "execution_count": 54,
     "metadata": {},
     "output_type": "execute_result"
    }
   ],
   "source": [
    "cpt_code.head()"
   ]
  },
  {
   "cell_type": "code",
   "execution_count": 55,
   "metadata": {},
   "outputs": [],
   "source": [
    "pdf_path = '22001001.pdf'\n",
    "reader = PdfReader(pdf_path)"
   ]
  },
  {
   "cell_type": "code",
   "execution_count": 56,
   "metadata": {},
   "outputs": [
    {
     "data": {
      "text/plain": [
       "62"
      ]
     },
     "execution_count": 56,
     "metadata": {},
     "output_type": "execute_result"
    }
   ],
   "source": [
    "total_pages = len(reader.pages)\n",
    "total_pages"
   ]
  },
  {
   "cell_type": "code",
   "execution_count": 57,
   "metadata": {},
   "outputs": [],
   "source": [
    "text = ''\n",
    "for page_num in range(total_pages):\n",
    "    page = reader.pages[page_num]\n",
    "    text += page.extract_text()"
   ]
  },
  {
   "cell_type": "code",
   "execution_count": 58,
   "metadata": {},
   "outputs": [
    {
     "name": "stdout",
     "output_type": "stream",
     "text": [
      "188423\n"
     ]
    }
   ],
   "source": [
    "print(len(text))"
   ]
  },
  {
   "cell_type": "code",
   "execution_count": 59,
   "metadata": {},
   "outputs": [
    {
     "name": "stdout",
     "output_type": "stream",
     "text": [
      "181624\n"
     ]
    }
   ],
   "source": [
    "text = re.sub(r'\\s+', ' ', text)\n",
    "print(len(text))"
   ]
  },
  {
   "cell_type": "code",
   "execution_count": 60,
   "metadata": {},
   "outputs": [],
   "source": [
    "stop_words = set(stopwords.words('english'))\n",
    " \n",
    "word_tokens = word_tokenize(text)"
   ]
  },
  {
   "cell_type": "code",
   "execution_count": 61,
   "metadata": {},
   "outputs": [],
   "source": [
    "filtered_sentence = []\n",
    " \n",
    "for w in word_tokens:\n",
    "    if w not in stop_words:\n",
    "        filtered_sentence.append(w)"
   ]
  },
  {
   "cell_type": "code",
   "execution_count": 62,
   "metadata": {},
   "outputs": [
    {
     "data": {
      "text/plain": [
       "22974"
      ]
     },
     "execution_count": 62,
     "metadata": {},
     "output_type": "execute_result"
    }
   ],
   "source": [
    "len(filtered_sentence)"
   ]
  },
  {
   "cell_type": "code",
   "execution_count": 63,
   "metadata": {},
   "outputs": [
    {
     "data": {
      "text/plain": [
       "[]"
      ]
     },
     "execution_count": 63,
     "metadata": {},
     "output_type": "execute_result"
    }
   ],
   "source": [
    "diagnosiscode = list(diag_code['diagnosiscode'])\n",
    "diag_dict =  dict.fromkeys(diagnosiscode, 0)\n",
    "for i in diag_dict:\n",
    "    if i in filtered_sentence:\n",
    "        diag_dict[i] = diag_dict[i] + 1\n",
    "diagcodes_present = []\n",
    "for i in diag_dict:\n",
    "    if diag_dict[i] > 0:\n",
    "        diagcodes_present.append(i)\n",
    "diagcodes_present"
   ]
  },
  {
   "cell_type": "code",
   "execution_count": 64,
   "metadata": {},
   "outputs": [
    {
     "data": {
      "text/plain": [
       "[]"
      ]
     },
     "execution_count": 64,
     "metadata": {},
     "output_type": "execute_result"
    }
   ],
   "source": [
    "hippscode = list(hipps_code['hippscode'])\n",
    "hipp_dict =  dict.fromkeys(hippscode, 0)\n",
    "for i in hipp_dict:\n",
    "    if i in filtered_sentence:\n",
    "        hipp_dict[i] = hipp_dict[i] + 1\n",
    "hippscodes_present = []\n",
    "for i in hipp_dict:\n",
    "    if hipp_dict[i] > 0:\n",
    "        hippscodes_present.append(i)\n",
    "hippscodes_present"
   ]
  },
  {
   "cell_type": "code",
   "execution_count": 65,
   "metadata": {},
   "outputs": [
    {
     "data": {
      "text/plain": [
       "[]"
      ]
     },
     "execution_count": 65,
     "metadata": {},
     "output_type": "execute_result"
    }
   ],
   "source": [
    "hcpccode = list(hcpc_code['hcpccode'])\n",
    "hcpc_dict =  dict.fromkeys(hcpccode, 0)\n",
    "for i in hcpc_dict:\n",
    "    if i in filtered_sentence:\n",
    "        hcpc_dict[i] = hcpc_dict[i] + 1\n",
    "hcpc_present = []\n",
    "for i in hcpc_dict:\n",
    "    if hcpc_dict[i] > 0:\n",
    "        hcpc_present.append(i)\n",
    "hcpc_present"
   ]
  },
  {
   "cell_type": "code",
   "execution_count": 66,
   "metadata": {},
   "outputs": [
    {
     "data": {
      "text/plain": [
       "[]"
      ]
     },
     "execution_count": 66,
     "metadata": {},
     "output_type": "execute_result"
    }
   ],
   "source": [
    "cptcode = list(cpt_code['cptcode'])\n",
    "cpt_dict =  dict.fromkeys(cptcode, 0)\n",
    "for i in cpt_dict:\n",
    "    if i in filtered_sentence:\n",
    "        cpt_dict[i] = cpt_dict[i] + 1\n",
    "cpt_present = []\n",
    "for i in cpt_dict:\n",
    "    if cpt_dict[i] > 0:\n",
    "        cpt_present.append(i)\n",
    "cpt_present"
   ]
  },
  {
   "cell_type": "code",
   "execution_count": null,
   "metadata": {},
   "outputs": [],
   "source": []
  }
 ],
 "metadata": {
  "kernelspec": {
   "display_name": "base",
   "language": "python",
   "name": "python3"
  },
  "language_info": {
   "codemirror_mode": {
    "name": "ipython",
    "version": 3
   },
   "file_extension": ".py",
   "mimetype": "text/x-python",
   "name": "python",
   "nbconvert_exporter": "python",
   "pygments_lexer": "ipython3",
   "version": "3.9.18"
  }
 },
 "nbformat": 4,
 "nbformat_minor": 2
}
